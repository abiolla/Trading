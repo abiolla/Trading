{
 "cells": [
  {
   "cell_type": "code",
   "execution_count": null,
   "id": "b988e270",
   "metadata": {},
   "outputs": [],
   "source": [
    "from pandas_datareader import data as web\n",
    "import numpy as np\n",
    "\n",
    "####\n",
    "df = web.DataReader('IBM',data_source='yahoo' ,start='2000-01-09',end='2012-09-12')\n",
    "df=df.iloc[::-1]\n",
    "\n",
    "df1=web.DataReader('AAPL', data_source ='yahoo', start='2000-01-09',end='2012-09-12')\n",
    "df1=df1.iloc[::-1]\n",
    "\n",
    "df2=web.DataReader('GOOG', data_source ='yahoo', start='2000-01-09',end='2012-09-12')\n",
    "df2=df2.iloc[::-1]\n",
    "\n",
    "df3=web.DataReader('SPY', data_source ='yahoo', start='2000-01-09',end='2012-09-12')\n",
    "df3=df3.iloc[::-1]\n",
    "\n",
    "df4=web.DataReader('GLD', data_source ='yahoo', start='2000-01-09',end='2012-09-12')\n",
    "df4=df4.iloc[::-1]\n",
    "\n",
    "####\n",
    "df.to_csv('data/IBM.csv', header=True)\n",
    "df1.to_csv('data/AAPL.csv', header=True)\n",
    "df2.to_csv('data/GOOG.csv', header=True)\n",
    "df3.to_csv('data/SPY.csv', header=True)\n",
    "df4.to_csv('data/GLD.csv', header=True)\n",
    "\n",
    "\n",
    "#Function to print the maximum closing value in two stock\n",
    "\n",
    "#this function reads in the data frame of the symbol provided and produces the maximum close price\n",
    "\n",
    "def get_max_close(symbol):\n",
    "    \n",
    "    df = pd.read_csv(\"data/{}.csv\".format(symbol))\n",
    "    return df['Close'].max()\n",
    "\n",
    "def test_run():\n",
    "    for symbol in [\"IBM\", \"AAPL\"]:\n",
    "        \n",
    "        print(\"max close\")\n",
    "        print(symbol,\":\", round(get_max_close(symbol), 4)) \n",
    "        print('-----------')\n",
    "        \n",
    "        \n",
    "test_run()\n",
    "\n",
    "\n",
    "#Function to print the mean value of closing stock \n",
    "\n",
    "def get_mean_close(symbol):\n",
    "    \n",
    "    df = pd.read_csv(\"data/{}.csv\".format(symbol))\n",
    "    return df['Close'].mean()\n",
    "\n",
    "def test_mean():\n",
    "    for symbol in ['IBM', 'AAPL']:\n",
    "        print('------------------------')\n",
    "        print(\"The mean close price for {} is {}\".format(symbol, round(get_mean_close(symbol), 4)))\n",
    "        print('------------------------')\n",
    "        \n",
    "        \n",
    "\n",
    "test_mean()\n",
    "\n",
    "\n",
    "import matplotlib.pyplot as plt\n",
    "\n",
    "#Plotting stock price data\n",
    "def test_plot():\n",
    "    df = pd.read_csv(\"data/IBM.csv\")\n",
    "    print(df['Adj Close'])\n",
    "    df['Adj Close'].plot()\n",
    "    plt.show()\n",
    "\n",
    "    \n",
    "test_plot()\n",
    "\n",
    "df[[\"Close\", \"Adj Close\"]].plot()\n",
    "plt.show()\n"
   ]
  },
  {
   "cell_type": "code",
   "execution_count": 1,
   "id": "967379cb",
   "metadata": {},
   "outputs": [
    {
     "name": "stdout",
     "output_type": "stream",
     "text": [
      "Hello world\n"
     ]
    }
   ],
   "source": [
    "print('Hello world')"
   ]
  },
  {
   "cell_type": "code",
   "execution_count": null,
   "id": "3369fb2d",
   "metadata": {},
   "outputs": [],
   "source": []
  }
 ],
 "metadata": {
  "kernelspec": {
   "display_name": "Python 3",
   "language": "python",
   "name": "python3"
  },
  "language_info": {
   "codemirror_mode": {
    "name": "ipython",
    "version": 3
   },
   "file_extension": ".py",
   "mimetype": "text/x-python",
   "name": "python",
   "nbconvert_exporter": "python",
   "pygments_lexer": "ipython3",
   "version": "3.8.8"
  }
 },
 "nbformat": 4,
 "nbformat_minor": 5
}
